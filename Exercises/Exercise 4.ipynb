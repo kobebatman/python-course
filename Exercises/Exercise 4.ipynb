{
 "cells": [
  {
   "cell_type": "markdown",
   "metadata": {},
   "source": [
    "1. Өмнөх хичээлээр үзсэн сэдвүүд болох\n",
    "    - truthy vs falsy\n",
    "    - ternary operator\n",
    "    - iterables\n",
    "    - immutable vs mutable\n",
    "    - enumerate() function\n",
    "    - variable scope\n",
    "    - argument vs parate\n",
    "2. `3x3 TIC TAC TOE` тоглоомны кодыг бичих.  https://www.google.com/search?q=tic+tac+toe&oq=tic+tac+toe+&aqs=chrome..69i57.2319j0j1&sourceid=chrome&ie=UTF-8"
   ]
  },
  {
   "cell_type": "code",
   "execution_count": null,
   "metadata": {},
   "outputs": [],
   "source": []
  }
 ],
 "metadata": {
  "kernelspec": {
   "display_name": "Python 3",
   "language": "python",
   "name": "python3"
  },
  "language_info": {
   "codemirror_mode": {
    "name": "ipython",
    "version": 3
   },
   "file_extension": ".py",
   "mimetype": "text/x-python",
   "name": "python",
   "nbconvert_exporter": "python",
   "pygments_lexer": "ipython3",
   "version": "3.7.4"
  }
 },
 "nbformat": 4,
 "nbformat_minor": 2
}
