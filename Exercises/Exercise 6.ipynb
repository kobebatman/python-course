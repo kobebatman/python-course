{
 "cells": [
  {
   "cell_type": "markdown",
   "metadata": {},
   "source": [
    "1. `3x3 TIC TAC TOE` тоглоомны ангид бичсэн кодыг ашиглан компьютертой (random module ашиглах) тоглох боломжтой болгож өргөтгөнө үү!\n",
    "\n",
    "2. `string` элемэнтүүдээс бүрдсэн list-ийн элемэнт бүрийг том үсгээр эхлүүлсэн шинэ list буцаах map() ашигласан function бичнэ үү! (Жич: ['apple', 'orange'] ==> ['Apple', 'Orange'])\n",
    "\n",
    "3. 'integer' элемэнтүүдээс бүрдсэн list-ийн гараас авсан утгаас их элемэнтүүдийг буцаах filter() ашигласан function бичнэ үү! (Жич: input: 50 [100, 15, 20, 30, 150, 45] ==> [100, 150])\n",
    "\n",
    "4. Дээрх 2 даалгаврыг lambda expressions ашиглан хэрэгжүүлнэ үү!"
   ]
  }
 ],
 "metadata": {
  "kernelspec": {
   "display_name": "Python 3",
   "language": "python",
   "name": "python3"
  },
  "language_info": {
   "codemirror_mode": {
    "name": "ipython",
    "version": 3
   },
   "file_extension": ".py",
   "mimetype": "text/x-python",
   "name": "python",
   "nbconvert_exporter": "python",
   "pygments_lexer": "ipython3",
   "version": "3.7.4"
  }
 },
 "nbformat": 4,
 "nbformat_minor": 2
}
