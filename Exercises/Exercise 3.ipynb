{
 "cells": [
  {
   "cell_type": "markdown",
   "metadata": {},
   "source": [
    "1. Геометрийн `Rectangle` нэртэй class бичээд тухайн class-аас 2 ширхэг object үүсгэнэ үү!. Энэхүү class нь өргөн, урт гэсэн attribute-уудтай, талбай болон perimeter-ийг олж буцаадаг method-уудтай байна.\n",
    "2. Хэрэглэгчийн оруулсан текстийг гараас авч attribute-д хадгалах get_text(), хадгалсан текстийг хэвлэх print_text() гэсэн method-уудтай class үүсгэнэ үү!\n"
   ]
  }
 ],
 "metadata": {
  "kernelspec": {
   "display_name": "Python 3",
   "language": "python",
   "name": "python3"
  },
  "language_info": {
   "codemirror_mode": {
    "name": "ipython",
    "version": 3
   },
   "file_extension": ".py",
   "mimetype": "text/x-python",
   "name": "python",
   "nbconvert_exporter": "python",
   "pygments_lexer": "ipython3",
   "version": "3.7.4"
  }
 },
 "nbformat": 4,
 "nbformat_minor": 2
}
