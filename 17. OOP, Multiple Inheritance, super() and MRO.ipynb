{
 "cells": [
  {
   "cell_type": "markdown",
   "metadata": {},
   "source": [
    "# OOP, Multiple Inheritance, super() and MRO"
   ]
  },
  {
   "cell_type": "markdown",
   "metadata": {},
   "source": [
    "### super(), Dunder methods\n",
    "Эх class-аас attribute-уудыг удамшуулахын тулд эх class-ын constructor function-ыг дуудах хэрэгтэй болдог. Дараах хэлбэрүүдээр дуудаж болно."
   ]
  },
  {
   "cell_type": "code",
   "execution_count": 2,
   "metadata": {},
   "outputs": [
    {
     "name": "stdout",
     "output_type": "stream",
     "text": [
      "['__class__', '__delattr__', '__dict__', '__dir__', '__doc__', '__eq__', '__format__', '__ge__', '__getattribute__', '__gt__', '__hash__', '__init__', '__init_subclass__', '__le__', '__lt__', '__module__', '__ne__', '__new__', '__reduce__', '__reduce_ex__', '__repr__', '__setattr__', '__sizeof__', '__str__', '__subclasshook__', '__weakref__', 'name', 'sing', 'song', 'speak']\n",
      "Norovbanzad\n",
      "this is Singer class object\n",
      "this is Singer class object\n"
     ]
    }
   ],
   "source": [
    "class Person:\n",
    "\n",
    "    def __init__(self, name):\n",
    "        self.name = name        \n",
    "\n",
    "    def speak(self):\n",
    "        print('person is speaking')\n",
    "        \n",
    "class Singer(Person):\n",
    "    \n",
    "    def __init__(self, song, name):\n",
    "        # Удамшсан Person class-ын attribute-уудыг тухайн object-д өвлөж авах - 1\n",
    "        Person.__init__(self, name)\n",
    "\n",
    "        # Удамшсан Person class-ын attribute-уудыг тухайн object-д өвлөж авах - 2\n",
    "        # super.__init__(name)\n",
    "        \n",
    "        self.song = song\n",
    "        \n",
    "    def sing(self):\n",
    "        print('singer is singing')\n",
    "        \n",
    "    # str()-т дамжуулж өгөхөд текстэн утга буцаах special, dunder method\n",
    "    def __str__(self):\n",
    "        return 'this is Singer class object'\n",
    "    \n",
    "singer = Singer('Uyhan zambuutiviin naran', 'Norovbanzad')\n",
    "\n",
    "# introspection буюу object-ын бүх methods, attributes-ыг харахдаа dir() ашиглана.\n",
    "print(dir(singer))\n",
    "\n",
    "# Person class-аас өвлөж авсан name attribute-ыг хэвлэх\n",
    "print(singer.name)\n",
    "\n",
    "# Person class-т тодорхойлж өгсөн dunder method-ыг ажиллуулах - 1\n",
    "print(str(singer))\n",
    "\n",
    "# Person class-т тодорхойлж өгсөн dunder method-ыг ажиллуулах - 2\n",
    "print(singer.__str__())\n"
   ]
  },
  {
   "cell_type": "markdown",
   "metadata": {},
   "source": [
    "### Multiple Inheritance, MRO\n",
    "\n",
    "Python-д олон class-аас зэрэг удамшуулах тохиолдолд MRO (method resolution order) буюу өвлөх зарчмын дараалал мөрдөгдөнө."
   ]
  },
  {
   "cell_type": "code",
   "execution_count": 4,
   "metadata": {},
   "outputs": [
    {
     "name": "stdout",
     "output_type": "stream",
     "text": [
      "c\n",
      "[<class '__main__.D'>, <class '__main__.B'>, <class '__main__.C'>, <class '__main__.A'>, <class 'object'>]\n",
      "(<class '__main__.D'>, <class '__main__.B'>, <class '__main__.C'>, <class '__main__.A'>, <class 'object'>)\n"
     ]
    }
   ],
   "source": [
    "class A:\n",
    "    arg = 'a'\n",
    "    \n",
    "class B(A):\n",
    "    pass\n",
    "\n",
    "class C(A):\n",
    "    arg = 'c'\n",
    "    \n",
    "class D(B, C):\n",
    "    pass\n",
    "\n",
    "# Depth first search algorithm-д хэрэгжсэн дараалал MRO болно.\n",
    "print(D.arg)\n",
    "\n",
    "# MRO-г мэдэх арга - 1\n",
    "print(D.mro())\n",
    "\n",
    "# MRO-г мэдэх арга - 2\n",
    "print(D.__mro__)"
   ]
  }
 ],
 "metadata": {
  "kernelspec": {
   "display_name": "Python 3",
   "language": "python",
   "name": "python3"
  },
  "language_info": {
   "codemirror_mode": {
    "name": "ipython",
    "version": 3
   },
   "file_extension": ".py",
   "mimetype": "text/x-python",
   "name": "python",
   "nbconvert_exporter": "python",
   "pygments_lexer": "ipython3",
   "version": "3.7.4"
  }
 },
 "nbformat": 4,
 "nbformat_minor": 2
}
