{
 "cells": [
  {
   "cell_type": "markdown",
   "metadata": {},
   "source": [
    "# OOP, Everything is object\n",
    "\n",
    "Python хэлний бүх өгөгдлийн төрөл, хувьсагчид object үүсгэдэг. Мөн хэрэглэгчийн тодорхойлсон class болон бусад төрлийн бүх object-ууд `object` class-аас автоматаар удамшиж method-уудыг нь өвлөж авна.\n",
    "`isinstance()` function ашиглан аливаа object аливаа class-ынх мөн эсэхийг шалгаж болно."
   ]
  },
  {
   "cell_type": "code",
   "execution_count": 12,
   "metadata": {},
   "outputs": [
    {
     "name": "stdout",
     "output_type": "stream",
     "text": [
      "<class 'int'>\n",
      "<class 'float'>\n",
      "<class 'str'>\n",
      "<class 'list'>\n",
      "<class 'set'>\n",
      "<class 'tuple'>\n",
      "<class 'dict'>\n",
      "<class 'bool'>\n"
     ]
    }
   ],
   "source": [
    "# Үндсэн өгөгдлийн төрлүүд бүгд өөрсдийн class-тай. Тэрхүү class нь object class-аас удамшсан байдаг. \n",
    "print(type(1))\n",
    "print(type(1.5))\n",
    "print(type('str'))\n",
    "print(type([1, 2]))\n",
    "print(type({1, 2}))\n",
    "print(type((1, 2)))\n",
    "print(type({ 'key': 'value' }))\n",
    "print(type(True))"
   ]
  },
  {
   "cell_type": "code",
   "execution_count": 11,
   "metadata": {},
   "outputs": [
    {
     "name": "stdout",
     "output_type": "stream",
     "text": [
      "True\n",
      "True\n"
     ]
    }
   ],
   "source": [
    "# int төрлийн хувьсагч үүсгэх. (int class-ын object үүсгэх)\n",
    "my_int = 1\n",
    "\n",
    "# my_int object нь int class-ынх эсэхийг шалгах\n",
    "print(isinstance(my_int, int))\n",
    "\n",
    "# my_int object нь object class-ынх эсэхийг шалгах\n",
    "print(isinstance(my_int, object))"
   ]
  }
 ],
 "metadata": {
  "kernelspec": {
   "display_name": "Python 3",
   "language": "python",
   "name": "python3"
  },
  "language_info": {
   "codemirror_mode": {
    "name": "ipython",
    "version": 3
   },
   "file_extension": ".py",
   "mimetype": "text/x-python",
   "name": "python",
   "nbconvert_exporter": "python",
   "pygments_lexer": "ipython3",
   "version": "3.7.4"
  }
 },
 "nbformat": 4,
 "nbformat_minor": 2
}
