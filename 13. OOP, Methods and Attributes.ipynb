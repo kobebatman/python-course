{
 "cells": [
  {
   "cell_type": "markdown",
   "metadata": {},
   "source": [
    "# OOP, Methods and Attributes\n",
    "\n",
    "Обьект хандлагат програмчлал нь нэгэн төрлийн програм загварчлах арга зам юм. Бодит амьдрал дээрх обьект нь шинж чанар (attributes) болон хийгдэх үйлдлүүдээс (methods) бүрдэнэ. Обьект классаас үүснэ."
   ]
  },
  {
   "cell_type": "code",
   "execution_count": 2,
   "metadata": {},
   "outputs": [],
   "source": [
    "# Геометрийн дугуй дүрсийг илэрхийлэх класс\n",
    "\n",
    "class Circle:\n",
    "    \n",
    "    # class attribute\n",
    "    # - бүх дугуй дүрсэд нийтлэг байдаг шинж чанар        \n",
    "    pi = 3.14\n",
    "    \n",
    "    # constructor function\n",
    "    # - тухайн class-ын object-ийг үүсгэх үед автоматаар дуудагдах функц\n",
    "    # - үүсч буй object-д attribute оноох үүрэгтэй\n",
    "    def __init__(self, arg_radius):\n",
    "        \n",
    "        # object attribute\n",
    "        self.radius = arg_radius\n",
    "        \n",
    "        # class attribute ашиглах арга 1\n",
    "        self.area = (arg_radius ** 2) * Circle.pi\n",
    "    \n",
    "    # method 1\n",
    "    # - тухайн object-ийн радиусыг өөрчлөх\n",
    "    def set_radius(self, new_radius):\n",
    "        self.radius = new_radius\n",
    "        \n",
    "        # class attribute ашиглах арга 2\n",
    "        self.area = (new_radius ** 2) * self.pi\n",
    "    \n",
    "    # method 2\n",
    "    # - тухайн object-ийн тойргийн уртыг олоод буцаах\n",
    "    def get_perimeter(self):\n",
    "        return self.radius * 2 * self.pi"
   ]
  },
  {
   "cell_type": "code",
   "execution_count": 3,
   "metadata": {},
   "outputs": [],
   "source": [
    "# Class-аас object үүсгэх\n",
    "my_circle = Circle(5)"
   ]
  },
  {
   "cell_type": "code",
   "execution_count": 4,
   "metadata": {},
   "outputs": [
    {
     "name": "stdout",
     "output_type": "stream",
     "text": [
      "<class '__main__.Circle'>\n"
     ]
    }
   ],
   "source": [
    "# Object-ийн төрлийг хэвлэх\n",
    "print(type(my_circle))"
   ]
  },
  {
   "cell_type": "code",
   "execution_count": 7,
   "metadata": {},
   "outputs": [
    {
     "name": "stdout",
     "output_type": "stream",
     "text": [
      "radius is 5, area is 78.5\n"
     ]
    }
   ],
   "source": [
    "# Object-ийн attribute-д хандах\n",
    "print(f'radius is {my_circle.radius}, area is {my_circle.area}')"
   ]
  },
  {
   "cell_type": "code",
   "execution_count": 8,
   "metadata": {},
   "outputs": [
    {
     "name": "stdout",
     "output_type": "stream",
     "text": [
      "radius is 10, area is 314.0\n"
     ]
    }
   ],
   "source": [
    "# Object-ийн method-ийг дуудах\n",
    "my_circle.set_radius(10)\n",
    "print(f'radius is {my_circle.radius}, area is {my_circle.area}')"
   ]
  }
 ],
 "metadata": {
  "kernelspec": {
   "display_name": "Python 3",
   "language": "python",
   "name": "python3"
  },
  "language_info": {
   "codemirror_mode": {
    "name": "ipython",
    "version": 3
   },
   "file_extension": ".py",
   "mimetype": "text/x-python",
   "name": "python",
   "nbconvert_exporter": "python",
   "pygments_lexer": "ipython3",
   "version": "3.7.4"
  }
 },
 "nbformat": 4,
 "nbformat_minor": 2
}
