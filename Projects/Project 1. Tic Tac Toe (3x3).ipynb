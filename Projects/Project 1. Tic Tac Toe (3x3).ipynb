{
 "cells": [
  {
   "cell_type": "code",
   "execution_count": null,
   "metadata": {
    "scrolled": true
   },
   "outputs": [],
   "source": [
    "import random\n",
    "\n",
    "# Боломжит байрлалуудыг хадгална\n",
    "positions = [ 1, 2, 3, 4, 5, 6, 7, 8, 9 ]\n",
    "# Бүх нүүдлийг хадгална\n",
    "moves = ['', '', '', '', '', '', '', '', '']\n",
    "# Тухайн мөч дэхь тоглогчийг заана\n",
    "current_player = None\n",
    "\n",
    "def get_board(p, m):\n",
    "    return f'''\n",
    "    БАЙРЛАЛ{\" \":9}ҮР ДҮН\n",
    "\n",
    "    {p[0]:^3}|{p[1]:^3}|{p[2]:^3}{\" \":5}{m[0]:^3}|{m[1]:^3}|{m[2]:^3}\n",
    "    --- --- ---{\" \":5}--- --- ---\n",
    "    {p[3]:^3}|{p[4]:^3}|{p[5]:^3}{\" \":5}{m[3]:^3}|{m[4]:^3}|{m[5]:^3}\n",
    "    --- --- ---{\" \":5}--- --- ---\n",
    "    {p[6]:^3}|{p[7]:^3}|{p[8]:^3}{\" \":5}{m[6]:^3}|{m[7]:^3}|{m[8]:^3}\n",
    "    '''\n",
    "\n",
    "def get_first_player():\n",
    "    return 'X' if bool(random.randint(0, 1)) else 'O'\n",
    "\n",
    "def start_game():\n",
    "    input(f'''\n",
    "    ТОГЛООМД ТАВТАЙ МОРИЛНО УУ!\n",
    "    {get_board(positions, moves)}\n",
    "    ЯМАР НЭГЭН ТОВЧ ДАРЖ ЭХЛҮҮЛНЭ ҮҮ! ''')\n",
    "\n",
    "def get_move(player):\n",
    "    move = None\n",
    "    \n",
    "    while move not in positions:\n",
    "        move = int(input(f'''ТОГЛОГЧ {player}, БАЙРЛАЛАА ОРУУЛНА УУ: '''))\n",
    "    return move\n",
    "\n",
    "def update_positions(move):\n",
    "    positions[move - 1] = ''\n",
    "\n",
    "def update_moves(move, player):\n",
    "    moves[move - 1] = player\n",
    "\n",
    "# TODO: set condition\n",
    "while True:\n",
    "    start_game()\n",
    "    current_player = get_first_player()\n",
    "\n",
    "    # TODO: set condition\n",
    "    while True:\n",
    "        move = get_move(current_player)\n",
    "        update_positions(move)\n",
    "        update_moves(move, current_player)\n",
    "\n",
    "        # TODO: check game status\n",
    "\n",
    "        print(get_board(positions, moves))\n",
    "        current_player = 'O' if current_player == 'X' else 'X'"
   ]
  }
 ],
 "metadata": {
  "kernelspec": {
   "display_name": "Python 3",
   "language": "python",
   "name": "python3"
  },
  "language_info": {
   "codemirror_mode": {
    "name": "ipython",
    "version": 3
   },
   "file_extension": ".py",
   "mimetype": "text/x-python",
   "name": "python",
   "nbconvert_exporter": "python",
   "pygments_lexer": "ipython3",
   "version": "3.7.4"
  }
 },
 "nbformat": 4,
 "nbformat_minor": 2
}
