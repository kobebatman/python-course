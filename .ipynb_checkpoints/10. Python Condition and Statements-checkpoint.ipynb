{
 "cells": [
  {
   "cell_type": "markdown",
   "metadata": {},
   "source": [
    "# IF, ELIF, ELSE Condition"
   ]
  },
  {
   "cell_type": "code",
   "execution_count": 1,
   "metadata": {},
   "outputs": [],
   "source": [
    "x = 100"
   ]
  },
  {
   "cell_type": "code",
   "execution_count": 7,
   "metadata": {},
   "outputs": [
    {
     "name": "stdout",
     "output_type": "stream",
     "text": [
      "3-т хуваахад 1 үлддэг тоо\n"
     ]
    }
   ],
   "source": [
    "if x % 3 == 0:\n",
    "    print(\"3-т хуваагддаг тоо\")\n",
    "elif x % 3 == 1:\n",
    "    print(\"3-т хуваахад 1 үлддэг тоо\")\n",
    "else:   \n",
    "    print(\"3-т хуваахад 2 үлддэг тоо\")"
   ]
  },
  {
   "cell_type": "code",
   "execution_count": 8,
   "metadata": {},
   "outputs": [],
   "source": [
    "x = 20"
   ]
  },
  {
   "cell_type": "code",
   "execution_count": 9,
   "metadata": {},
   "outputs": [
    {
     "name": "stdout",
     "output_type": "stream",
     "text": [
      "Эерэг тоо\n",
      "Тэгш тоо\n"
     ]
    }
   ],
   "source": [
    "if x < 0:\n",
    "    print(\"Сөрөг тоо\")\n",
    "else:\n",
    "    print(\"Эерэг тоо\")\n",
    "    if x % 2 == 0:\n",
    "        print(\"Тэгш тоо\")\n",
    "    else:\n",
    "        print(\"Сондгой тоо\")"
   ]
  }
 ],
 "metadata": {
  "kernelspec": {
   "display_name": "Python 3",
   "language": "python",
   "name": "python3"
  },
  "language_info": {
   "codemirror_mode": {
    "name": "ipython",
    "version": 3
   },
   "file_extension": ".py",
   "mimetype": "text/x-python",
   "name": "python",
   "nbconvert_exporter": "python",
   "pygments_lexer": "ipython3",
   "version": "3.7.4"
  }
 },
 "nbformat": 4,
 "nbformat_minor": 2
}
