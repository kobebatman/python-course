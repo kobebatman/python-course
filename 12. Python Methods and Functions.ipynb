{
 "cells": [
  {
   "cell_type": "markdown",
   "metadata": {},
   "source": [
    "# Methods\n",
    "\n",
    "Method буюу гишүүн функц нь дараах хэлбэрээр дуудагдана. `object.method(arg1, arg2, ...)`"
   ]
  },
  {
   "cell_type": "code",
   "execution_count": 1,
   "metadata": {},
   "outputs": [
    {
     "data": {
      "text/plain": [
       "'монгол'"
      ]
     },
     "execution_count": 1,
     "metadata": {},
     "output_type": "execute_result"
    }
   ],
   "source": [
    "# String обьектийн гишүүн функц\n",
    "\n",
    "my_str = 'МонгоЛ'\n",
    "\n",
    "my_str.upper()\n",
    "my_str.lower()"
   ]
  },
  {
   "cell_type": "markdown",
   "metadata": {},
   "source": [
    "# Functions\n",
    "\n",
    "Бичсэн кодоо олон дахин ашиглахын тулд функц ашиглана. Дараах хэлбэртай байна. `def function_name(arg1, arg2, ...):`"
   ]
  },
  {
   "cell_type": "code",
   "execution_count": 6,
   "metadata": {},
   "outputs": [
    {
     "name": "stdout",
     "output_type": "stream",
     "text": [
      "8\n"
     ]
    }
   ],
   "source": [
    "# 2 тоо нэмээд хэвлэх функц\n",
    "\n",
    "def add_numbers(num1, num2):\n",
    "    print(num1 + num2)\n",
    "\n",
    "add_numbers(3, 5)"
   ]
  },
  {
   "cell_type": "code",
   "execution_count": 8,
   "metadata": {},
   "outputs": [
    {
     "name": "stdout",
     "output_type": "stream",
     "text": [
      "8\n"
     ]
    }
   ],
   "source": [
    "# 2 тоо нэмээд хариуг нь буцаадаг функц\n",
    "\n",
    "def add_numbers_return(num1, num2):\n",
    "    return num1 + num2\n",
    "\n",
    "print(add_numbers_return(3, 5))"
   ]
  },
  {
   "cell_type": "code",
   "execution_count": 9,
   "metadata": {},
   "outputs": [
    {
     "name": "stdout",
     "output_type": "stream",
     "text": [
      "True\n"
     ]
    }
   ],
   "source": [
    "# өгөгдсөн текстэд дэд мөр байгаа эсэхийг буцаадаг функц\n",
    "\n",
    "def find_substring(txt):\n",
    "    if 'be' in txt:\n",
    "        return True\n",
    "    else:\n",
    "        return False\n",
    "    \n",
    "result = find_substring(\"To be or Not to Be\")\n",
    "print(result)"
   ]
  },
  {
   "cell_type": "markdown",
   "metadata": {},
   "source": [
    "### Default paramater value\n",
    "\n",
    "Function - ий параметрт эхлэл утга өгч болно."
   ]
  },
  {
   "cell_type": "code",
   "execution_count": 11,
   "metadata": {},
   "outputs": [
    {
     "data": {
      "text/plain": [
       "300"
      ]
     },
     "execution_count": 11,
     "metadata": {},
     "output_type": "execute_result"
    }
   ],
   "source": [
    "def add_numbers_with_default_params(num1, num2=100):\n",
    "    return num1 + num2\n",
    "\n",
    "add_numbers_with_default_params(100)\n",
    "add_numbers_with_default_params(100, 200)"
   ]
  },
  {
   "cell_type": "code",
   "execution_count": 12,
   "metadata": {},
   "outputs": [
    {
     "name": "stdout",
     "output_type": "stream",
     "text": [
      "name is Unknown\n",
      "age is 0\n"
     ]
    }
   ],
   "source": [
    "def student(name='Unknown', age=0):\n",
    "    print(f'name is {name}')\n",
    "    print(f'age is {age}')\n",
    "    \n",
    "student()"
   ]
  },
  {
   "cell_type": "code",
   "execution_count": 13,
   "metadata": {},
   "outputs": [
    {
     "name": "stdout",
     "output_type": "stream",
     "text": [
      "name is Dorj\n",
      "age is 0\n"
     ]
    }
   ],
   "source": [
    "student(name='Dorj')"
   ]
  },
  {
   "cell_type": "code",
   "execution_count": 14,
   "metadata": {},
   "outputs": [
    {
     "name": "stdout",
     "output_type": "stream",
     "text": [
      "name is Unknown\n",
      "age is 23\n"
     ]
    }
   ],
   "source": [
    "student(age=23)"
   ]
  },
  {
   "cell_type": "code",
   "execution_count": 15,
   "metadata": {},
   "outputs": [
    {
     "name": "stdout",
     "output_type": "stream",
     "text": [
      "name is 200\n",
      "age is 0\n"
     ]
    }
   ],
   "source": [
    "student(200)"
   ]
  },
  {
   "cell_type": "code",
   "execution_count": 16,
   "metadata": {},
   "outputs": [
    {
     "name": "stdout",
     "output_type": "stream",
     "text": [
      "name is BOLD\n",
      "age is 0\n"
     ]
    }
   ],
   "source": [
    "student('BOLD')"
   ]
  },
  {
   "cell_type": "markdown",
   "metadata": {},
   "source": [
    "### * args, ** kwargs\n",
    "\n",
    "Функцэд дамжуулж өгсөн параметрүүдийг tuple, dictionary байдлаар авах боломжийг олгоно."
   ]
  },
  {
   "cell_type": "code",
   "execution_count": 17,
   "metadata": {},
   "outputs": [
    {
     "name": "stdout",
     "output_type": "stream",
     "text": [
      "name: DORJOO\n",
      "age: 15\n",
      "friends: ('Bataa', 'Sukhee', 'Tsetsgee')\n",
      "marks: {'math': 100, 'physics': 80, 'biology': 90}\n"
     ]
    }
   ],
   "source": [
    "def student_with(name, age, *friends, **marks):\n",
    "    print(f'name: {name}')\n",
    "    print(f'age: {age}')\n",
    "    print(f'friends: {friends}')\n",
    "    print(f'marks: {marks}')\n",
    "    \n",
    "student_with('DORJOO', 15, 'Bataa', 'Sukhee', 'Tsetsgee', math=100, physics=80, biology=90)"
   ]
  }
 ],
 "metadata": {
  "kernelspec": {
   "display_name": "Python 3",
   "language": "python",
   "name": "python3"
  },
  "language_info": {
   "codemirror_mode": {
    "name": "ipython",
    "version": 3
   },
   "file_extension": ".py",
   "mimetype": "text/x-python",
   "name": "python",
   "nbconvert_exporter": "python",
   "pygments_lexer": "ipython3",
   "version": "3.7.4"
  }
 },
 "nbformat": 4,
 "nbformat_minor": 2
}
