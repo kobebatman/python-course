{
 "cells": [
  {
   "cell_type": "markdown",
   "metadata": {},
   "source": [
    "# Python Functional Programming\n",
    "\n",
    "Програм бичих хэд хэдэн арга техникүүд байдаг.\n",
    "- Procedural (FORTRAN, Pascal, BASIC, COBOL, ...)\n",
    "- OOP (C++, Java, Python, ...)\n",
    "- Functional (Haskell, Python, Javascript, ...)\n",
    "\n",
    "Python хэлэнд functional хэлбэрээр код бичих боломжтой. Үүнийг хангах хэд хэдэн built-in function бий."
   ]
  },
  {
   "cell_type": "markdown",
   "metadata": {},
   "source": [
    "### map()"
   ]
  },
  {
   "cell_type": "code",
   "execution_count": 10,
   "metadata": {},
   "outputs": [
    {
     "name": "stdout",
     "output_type": "stream",
     "text": [
      "[2, 4, 6]\n",
      "{2, 4, 6}\n",
      "(2, 4, 6)\n",
      "[2, 4, 6]\n"
     ]
    }
   ],
   "source": [
    "# function-аар list-ийн бүх утгыг 2 дахин нэмэгдүүлэх\n",
    "def multiply_by_two(the_list):\n",
    "    new_list = []\n",
    "    for item in the_list:\n",
    "        new_list.append(item * 2)\n",
    "    return new_list\n",
    "\n",
    "# map()-ээр list-ийн бүх утгыг 2 дахин нэмэгдүүлэх\n",
    "def multiply_item_by_two(item):\n",
    "    return item * 2\n",
    "\n",
    "print(list(map(multiply_item_by_two, [ 1, 2, 3 ])))\n",
    "print(set(map(multiply_item_by_two, [ 1, 2, 3 ])))\n",
    "print(tuple(map(multiply_item_by_two, [ 1, 2, 3 ])))\n",
    "print(multiply_by_two([ 1, 2, 3 ]))"
   ]
  },
  {
   "cell_type": "markdown",
   "metadata": {},
   "source": [
    "### filter()"
   ]
  },
  {
   "cell_type": "code",
   "execution_count": 9,
   "metadata": {},
   "outputs": [
    {
     "name": "stdout",
     "output_type": "stream",
     "text": [
      "[1, 3, 5]\n",
      "{1, 3, 5}\n",
      "(1, 3, 5)\n",
      "[1, 3, 5]\n"
     ]
    }
   ],
   "source": [
    "# function-аар list-ийн бүх сондгой тоог олох\n",
    "def find_odds(the_list):\n",
    "    new_list = []\n",
    "    for item in the_list:\n",
    "        if item % 2 == 1:\n",
    "            new_list.append(item)\n",
    "    return new_list\n",
    "\n",
    "# filter()-ээр list-ийн бүх сондгой тоог олох\n",
    "def find_odd_item(item):\n",
    "    return item % 2 == 1\n",
    "\n",
    "print(list(filter(find_odd_item, [ 1, 2, 3, 4, 5, 6 ])))\n",
    "print(set(filter(find_odd_item, [ 1, 2, 3, 4, 5, 6 ])))\n",
    "print(tuple(filter(find_odd_item, [ 1, 2, 3, 4, 5, 6 ])))\n",
    "print(find_odds([ 1, 2, 3, 4, 5, 6 ]))"
   ]
  },
  {
   "cell_type": "markdown",
   "metadata": {},
   "source": [
    "### zip()"
   ]
  },
  {
   "cell_type": "code",
   "execution_count": 8,
   "metadata": {},
   "outputs": [
    {
     "name": "stdout",
     "output_type": "stream",
     "text": [
      "[('Бат', 22, 'эр'), ('Дорж', 20, 'эм')]\n",
      "{('Дорж', 20, 'эм'), ('Бат', 22, 'эр')}\n",
      "(('Бат', 22, 'эр'), ('Дорж', 20, 'эм'))\n"
     ]
    }
   ],
   "source": [
    "# zip() нь iterable object-уудыг харгалзуулан нийлүүлнэ\n",
    "names = [ 'Бат', 'Дорж', 'Дулам', 'Дагва' ]\n",
    "ages = ( 22, 20, 19, 30, 50, 100, 80 )\n",
    "genders = { 'эр', 'эр', 'эм', 'эр' }\n",
    "\n",
    "print(list(zip(names, ages, genders)))\n",
    "print(set(zip(names, ages, genders)))\n",
    "print(tuple(zip(names, ages, genders)))"
   ]
  },
  {
   "cell_type": "markdown",
   "metadata": {},
   "source": [
    "### lambda expressions\n",
    "\n",
    "Anonymous буюу нэргүй function гэж нэрлэдэг. Нэг удаа ашиглах зориулалтаар бичихэд тохиромжтой."
   ]
  },
  {
   "cell_type": "code",
   "execution_count": 13,
   "metadata": {},
   "outputs": [
    {
     "name": "stdout",
     "output_type": "stream",
     "text": [
      "[10, 12, 14, 16, 18, 20]\n",
      "[10, 12, 14, 16, 18, 20]\n"
     ]
    }
   ],
   "source": [
    "my_numbers = [ 5, 6, 7, 8, 9, 10 ]\n",
    "\n",
    "result = list(map(lambda item: item * 2, my_numbers))\n",
    "print(result)\n",
    "\n",
    "# lambda expression-ыг мөн variable-д хадгалж болно\n",
    "the_lambda = lambda item: item * 2\n",
    "\n",
    "result = list(map(the_lambda, my_numbers))\n",
    "print(result)"
   ]
  }
 ],
 "metadata": {
  "kernelspec": {
   "display_name": "Python 3",
   "language": "python",
   "name": "python3"
  },
  "language_info": {
   "codemirror_mode": {
    "name": "ipython",
    "version": 3
   },
   "file_extension": ".py",
   "mimetype": "text/x-python",
   "name": "python",
   "nbconvert_exporter": "python",
   "pygments_lexer": "ipython3",
   "version": "3.7.4"
  }
 },
 "nbformat": 4,
 "nbformat_minor": 2
}
