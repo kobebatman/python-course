{
 "cells": [
  {
   "cell_type": "markdown",
   "metadata": {},
   "source": [
    "# Python Generators"
   ]
  },
  {
   "cell_type": "markdown",
   "metadata": {},
   "source": [
    "- `iterable`. Өөртөө `__iter__` method агуулсан object-уудыг iterable гэнэ. Жишээ нь: list, str, set, tuple, ...\n",
    "- `itarator`. Өөртөө `__iter__`, `__next__` method агуулсан object-уудыг iterator гэнэ.\n",
    "- `generator`. Iterator төрлийн object-ыг хялбар байдлаар үүсгэх боломжийг олгоно."
   ]
  },
  {
   "cell_type": "code",
   "execution_count": 6,
   "metadata": {},
   "outputs": [
    {
     "name": "stdout",
     "output_type": "stream",
     "text": [
      "1\n",
      "2\n",
      "3\n"
     ]
    }
   ],
   "source": [
    "# __iter__ dunder method-той iterable object\n",
    "my_list = [ 1, 2, 3 ]\n",
    "\n",
    "# dir(my_list_iterator) ашиглан introspection хийж __iter__ method-ыг агуулсныг шалгаж болно.\n",
    "\n",
    "# iterable-ээс iterator object-ыг гаргаж авах - 1\n",
    "my_list_iterator = my_list.__iter__()\n",
    "\n",
    "# iterable-ээс iterator object-ыг гаргаж авах - 2\n",
    "my_list_iterator = iter(my_list)\n",
    "\n",
    "# dir(my_list_iterator) ашиглан introspection хийж __iter__, __next__ method-уудыг агуулсныг шалгаж болно.\n",
    "\n",
    "# iterator object-д агуулагдсан элемэнт бүрт next() ашиглан хандана.\n",
    "print(next(my_list_iterator))\n",
    "print(next(my_list_iterator))\n",
    "print(next(my_list_iterator))"
   ]
  },
  {
   "cell_type": "code",
   "execution_count": 7,
   "metadata": {},
   "outputs": [
    {
     "ename": "StopIteration",
     "evalue": "",
     "output_type": "error",
     "traceback": [
      "\u001b[1;31m---------------------------------------------------------------------------\u001b[0m",
      "\u001b[1;31mStopIteration\u001b[0m                             Traceback (most recent call last)",
      "\u001b[1;32m<ipython-input-7-e25730ee4e03>\u001b[0m in \u001b[0;36m<module>\u001b[1;34m\u001b[0m\n\u001b[0;32m      1\u001b[0m \u001b[1;31m# iterator object-д агуулагдах элемэнтүүд дууссан бол StopIteration алдааг өгнө.\u001b[0m\u001b[1;33m\u001b[0m\u001b[1;33m\u001b[0m\u001b[1;33m\u001b[0m\u001b[0m\n\u001b[1;32m----> 2\u001b[1;33m \u001b[0mprint\u001b[0m\u001b[1;33m(\u001b[0m\u001b[0mnext\u001b[0m\u001b[1;33m(\u001b[0m\u001b[0mmy_list_iterator\u001b[0m\u001b[1;33m)\u001b[0m\u001b[1;33m)\u001b[0m\u001b[1;33m\u001b[0m\u001b[1;33m\u001b[0m\u001b[0m\n\u001b[0m",
      "\u001b[1;31mStopIteration\u001b[0m: "
     ]
    }
   ],
   "source": [
    "# iterator object-д агуулагдах элемэнтүүд дууссан бол StopIteration алдааг өгнө.\n",
    "print(next(my_list_iterator))"
   ]
  },
  {
   "cell_type": "code",
   "execution_count": 8,
   "metadata": {},
   "outputs": [
    {
     "name": "stdout",
     "output_type": "stream",
     "text": [
      "1\n",
      "2\n",
      "3\n"
     ]
    }
   ],
   "source": [
    "# for loop ажиллахдаа iterable object-ыг iter()-ээр iterator болгоод түүн дээр нэг бүрчлэн next()-ыг дууддаг.\n",
    "# Дууссан эсэхийг StopIteration алдаа гарсан үед error handling хийж мэддэг.\n",
    "for item in my_list:\n",
    "    print(item)"
   ]
  },
  {
   "cell_type": "code",
   "execution_count": 10,
   "metadata": {},
   "outputs": [
    {
     "name": "stdout",
     "output_type": "stream",
     "text": [
      "1\n",
      "2\n",
      "3\n"
     ]
    }
   ],
   "source": [
    "# for loop-ыг дараах байдалтай ажилладаг гэж төсөөлж болно.\n",
    "def inside_loop(iterable_object):\n",
    "    iterable_object_iterator = iter(iterable_object)\n",
    "    while True:\n",
    "        try:\n",
    "            print(next(iterable_object_iterator))\n",
    "        except StopIteration:\n",
    "            break\n",
    "inside_loop([ 1, 2, 3 ])"
   ]
  },
  {
   "cell_type": "code",
   "execution_count": 36,
   "metadata": {},
   "outputs": [
    {
     "name": "stdout",
     "output_type": "stream",
     "text": [
      "0\n",
      "1\n",
      "2\n"
     ]
    }
   ],
   "source": [
    "# Өөрсдийн iterator object үүсгэх class-ыг дараах байдалтай үүсгэж болно.\n",
    "class MyRangeIterator:\n",
    "    def __init__(self, end):\n",
    "        self.end = end\n",
    "        self.index = -1\n",
    "\n",
    "    # iter() дуудахад ажиллана\n",
    "    def __iter__(self):\n",
    "        return self\n",
    "    \n",
    "    # next() дуудахад ажиллана\n",
    "    def __next__(self):\n",
    "        self.index += 1\n",
    "        if self.index < self.end:\n",
    "            return self.index\n",
    "        # давталт дууссан үед StopIteration алдааг шиднэ\n",
    "        else:\n",
    "            raise StopIteration\n",
    "\n",
    "my_range_iterator = MyRangeIterator(3)\n",
    "\n",
    "# Дараах байдлаар next() ашиглан тоочих байдлаар элемэнтүүд рүү хандаж болно.\n",
    "\n",
    "# next(my_range_iterator)\n",
    "# next(my_range_iterator)\n",
    "# next(my_range_iterator)\n",
    "# next(my_range_iterator)\n",
    "\n",
    "# Дараах байдлаар for loop ашиглан элемэнтүүд рүү хандаж болно.\n",
    "for item in my_range_iterator:\n",
    "    print(item)"
   ]
  },
  {
   "cell_type": "markdown",
   "metadata": {},
   "source": [
    "Дээр үүсгэсэн өөрсдийн iterator object-ыг generator ашиглан хялбар байдлаар үүсгэж болно.\n",
    "- generator function\n",
    "- generator expression\n",
    "гэсэн 2 аргаар үүсгэж болно."
   ]
  },
  {
   "cell_type": "markdown",
   "metadata": {},
   "source": [
    "#### Generator function"
   ]
  },
  {
   "cell_type": "code",
   "execution_count": 22,
   "metadata": {},
   "outputs": [
    {
     "name": "stdout",
     "output_type": "stream",
     "text": [
      "phase 1: 1\n"
     ]
    }
   ],
   "source": [
    "# generator function-ы жишээ\n",
    "def my_generator():\n",
    "    counter = 0\n",
    "\n",
    "    counter += 1\n",
    "    print(f'phase 1: {counter}')\n",
    "    yield\n",
    "    \n",
    "    counter += 1\n",
    "    print(f'phase 2: {counter}')\n",
    "    yield\n",
    "    \n",
    "my_generator_obj = my_generator()\n",
    "\n",
    "# Эхний удаа дуудахад эхний yield хүртэл ажиллана.\n",
    "next(my_generator_obj)"
   ]
  },
  {
   "cell_type": "code",
   "execution_count": 23,
   "metadata": {},
   "outputs": [
    {
     "name": "stdout",
     "output_type": "stream",
     "text": [
      "phase 2: 2\n"
     ]
    }
   ],
   "source": [
    "# 2 дахь удаа next() дуудахад эхний yield-ын дараахаас 2 дахь yield хүртэл код ажиллана.\n",
    "next(my_generator_obj)"
   ]
  },
  {
   "cell_type": "code",
   "execution_count": 24,
   "metadata": {},
   "outputs": [
    {
     "ename": "StopIteration",
     "evalue": "",
     "output_type": "error",
     "traceback": [
      "\u001b[1;31m---------------------------------------------------------------------------\u001b[0m",
      "\u001b[1;31mStopIteration\u001b[0m                             Traceback (most recent call last)",
      "\u001b[1;32m<ipython-input-24-1e4754a13b5f>\u001b[0m in \u001b[0;36m<module>\u001b[1;34m\u001b[0m\n\u001b[0;32m      1\u001b[0m \u001b[1;31m# 3 дахь буюу эцсийн yield-ын дараах кодыг ажиллуулах гэж үзвэл бидэнд алдаа мэдэгдэнэ.\u001b[0m\u001b[1;33m\u001b[0m\u001b[1;33m\u001b[0m\u001b[1;33m\u001b[0m\u001b[0m\n\u001b[1;32m----> 2\u001b[1;33m \u001b[0mnext\u001b[0m\u001b[1;33m(\u001b[0m\u001b[0mmy_generator_obj\u001b[0m\u001b[1;33m)\u001b[0m\u001b[1;33m\u001b[0m\u001b[1;33m\u001b[0m\u001b[0m\n\u001b[0m",
      "\u001b[1;31mStopIteration\u001b[0m: "
     ]
    }
   ],
   "source": [
    "# 3 дахь буюу эцсийн yield-ын дараах кодыг ажиллуулах гэж үзвэл бидэнд алдаа мэдэгдэнэ.\n",
    "next(my_generator_obj)"
   ]
  },
  {
   "cell_type": "markdown",
   "metadata": {},
   "source": [
    "Generator function нь `yield` түлхүүр үгийг агуулах бөгөөд iterator-ыг хангасан object-ыг үүсгэдэг. Үүнийг ашигласнаар гараар `StopIteration` алдааг raise хийх шаардлагүйгээс гадна `__init__`, `__next__` method-уудыг бичиж өгөхгүй байж болох юм."
   ]
  },
  {
   "cell_type": "code",
   "execution_count": 37,
   "metadata": {},
   "outputs": [
    {
     "name": "stdout",
     "output_type": "stream",
     "text": [
      "['__class__', '__del__', '__delattr__', '__dir__', '__doc__', '__eq__', '__format__', '__ge__', '__getattribute__', '__gt__', '__hash__', '__init__', '__init_subclass__', '__iter__', '__le__', '__lt__', '__name__', '__ne__', '__new__', '__next__', '__qualname__', '__reduce__', '__reduce_ex__', '__repr__', '__setattr__', '__sizeof__', '__str__', '__subclasshook__', 'close', 'gi_code', 'gi_frame', 'gi_running', 'gi_yieldfrom', 'send', 'throw']\n",
      "0\n",
      "1\n",
      "2\n",
      "3\n",
      "4\n"
     ]
    }
   ],
   "source": [
    "# generator function-ы жишээ\n",
    "def my_range_generator(counter):\n",
    "    index = 0\n",
    "    while index < counter:\n",
    "        result = index\n",
    "        index += 1\n",
    "        yield result\n",
    "        \n",
    "print(dir(my_range_generator(5)))\n",
    "\n",
    "for item in my_range_generator(5):\n",
    "    print(item)"
   ]
  },
  {
   "cell_type": "markdown",
   "metadata": {},
   "source": [
    "#### Generator expression"
   ]
  },
  {
   "cell_type": "code",
   "execution_count": 30,
   "metadata": {},
   "outputs": [
    {
     "name": "stdout",
     "output_type": "stream",
     "text": [
      "<class 'list'>\n",
      "<class 'generator'>\n",
      "1\n"
     ]
    }
   ],
   "source": [
    "# list comprehension\n",
    "my_list = [ item for item in [ 1, 2, 3 ] ]\n",
    "print(type(my_list))\n",
    "\n",
    "# generator expression\n",
    "my_generator = ( item for item in [ 1, 2, 3 ] )\n",
    "print(type(my_generator))"
   ]
  },
  {
   "cell_type": "markdown",
   "metadata": {},
   "source": [
    "#### Ач холбогдол"
   ]
  },
  {
   "cell_type": "markdown",
   "metadata": {},
   "source": [
    "Тухайн мөчид тухайн элемэнт дээр бусад элемэнтээс үл хамаарах үйлдэл хийж байгаа үед generator ашигласнаар санах ойг хэмнэх, төгсгөл нь тодорхойгүй өгөгдлийг алхам алхамаар боловсруулах гэх мэт давуу\n",
    "талтай."
   ]
  },
  {
   "cell_type": "code",
   "execution_count": 48,
   "metadata": {},
   "outputs": [
    {
     "name": "stdout",
     "output_type": "stream",
     "text": [
      "*** Range() ашиглав ***\n",
      "Тухайн код 1.1249959468841553 секунд ажиллав.\n",
      "*** List ашиглав ***\n",
      "Тухайн код 1.2481653690338135 секунд ажиллав.\n"
     ]
    }
   ],
   "source": [
    "# range болон list ашигласан жишээ.\n",
    "# Жич: range() нь generator биш. Гэхдээ дээр дурьдсанаар list шиг бүх утгыг хадгалдаггүй. start, stop-оо зөвхөн хадгалдаг.\n",
    "\n",
    "from time import time\n",
    "\n",
    "def show_duration(func):\n",
    "\n",
    "    def wrapper(*args, **kwargs):\n",
    "        start_time = time()\n",
    "        \n",
    "        print(f'*** {kwargs[\"name\"]} ***')\n",
    "        func(*args, **kwargs)\n",
    "        \n",
    "        end_time = time()\n",
    "        print(f'Тухайн код {end_time - start_time} секунд ажиллав.')\n",
    "\n",
    "    return wrapper\n",
    "\n",
    "@show_duration\n",
    "def efficient(name=''):\n",
    "    for i in range(10000000):\n",
    "        i * 2\n",
    "        \n",
    "@show_duration\n",
    "def not_efficient(name=''):\n",
    "    for i in list(range(10000000)):\n",
    "        i * 2\n",
    "        \n",
    "efficient(name='Range() ашиглав')\n",
    "not_efficient(name='List ашиглав')\n"
   ]
  }
 ],
 "metadata": {
  "kernelspec": {
   "display_name": "Python 3",
   "language": "python",
   "name": "python3"
  },
  "language_info": {
   "codemirror_mode": {
    "name": "ipython",
    "version": 3
   },
   "file_extension": ".py",
   "mimetype": "text/x-python",
   "name": "python",
   "nbconvert_exporter": "python",
   "pygments_lexer": "ipython3",
   "version": "3.7.4"
  }
 },
 "nbformat": 4,
 "nbformat_minor": 2
}
