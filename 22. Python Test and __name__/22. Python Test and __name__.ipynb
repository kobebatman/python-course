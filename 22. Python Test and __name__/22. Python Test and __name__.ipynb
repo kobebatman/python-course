{
 "cells": [
  {
   "cell_type": "markdown",
   "metadata": {},
   "source": [
    "# Python Test and `__name__`"
   ]
  },
  {
   "cell_type": "markdown",
   "metadata": {},
   "source": [
    "### Python Test\n",
    "\n",
    "Кодын ажиллагааг зөв эсэхийг шалгах зориулалттай кодыг test код гэнэ. Test хийх олон арга хэрэгслүүд байдаг. Хамгийн энгийнээр python-ы `unittest` санг ашиглан test код бичиж болно. *Уг хавтас дахь .py файлаас дэлгэрэнгүй жишээг харна уу!*"
   ]
  },
  {
   "cell_type": "markdown",
   "metadata": {},
   "source": [
    "### `__name__`\n",
    "\n",
    "Python module буюу код агуулсан файлыг хэрхэн ажиллуулж байгаагаас хамаарч `__name__`-ийн утга `__main__` эсвэл тухайн module-ийн нэр байна. *Уг хавтас дахь .py файлаас дэлгэрэнгүй жишээг харна уу!*"
   ]
  }
 ],
 "metadata": {
  "kernelspec": {
   "display_name": "Python 3",
   "language": "python",
   "name": "python3"
  },
  "language_info": {
   "codemirror_mode": {
    "name": "ipython",
    "version": 3
   },
   "file_extension": ".py",
   "mimetype": "text/x-python",
   "name": "python",
   "nbconvert_exporter": "python",
   "pygments_lexer": "ipython3",
   "version": "3.7.4"
  }
 },
 "nbformat": 4,
 "nbformat_minor": 2
}
