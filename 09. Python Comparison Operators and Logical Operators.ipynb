{
 "cells": [
  {
   "cell_type": "markdown",
   "metadata": {},
   "source": [
    "# Operators\n",
    "\n",
    "### Comparison Operators буюу харьцуулах оператор\n",
    "a = 10, b = 20 гэж үзье.\n",
    "\n",
    "<table class=\"table table-bordered\">\n",
    "<tr>\n",
    "<th style=\"width:10%\">Оператор</th><th style=\"width:45%\">Тайлбар</th><th>Жишээ</th>\n",
    "</tr>\n",
    "<tr>\n",
    "<td>==</td>\n",
    "<td>Утгууд тэнцүү бол True буцаана.</td>\n",
    "<td> (a == b) нь False.</td>\n",
    "</tr>\n",
    "<tr>\n",
    "<td>!=</td>\n",
    "<td>Утгууд ялгаатай бол True буцаана.</td>\n",
    "<td>(a != b) нь True.</td>\n",
    "</tr>\n",
    "<tr>\n",
    "<td>&gt;</td>\n",
    "<td>Зүүн утга баруунаас их бол True буцаана.</td>\n",
    "<td> (a &gt; b) нь False.</td>\n",
    "</tr>\n",
    "<tr>\n",
    "<td>&lt;</td>\n",
    "<td>Зүүн утга баруунаас бага бол True буцаана.</td>\n",
    "<td> (a &lt; b) нь True.</td>\n",
    "</tr>\n",
    "<tr>\n",
    "<td>&gt;=</td>\n",
    "<td>Зүүн утга баруунаас их буюу тэнцүү бол True буцаана.</td>\n",
    "<td> (a &gt;= b) нь False. </td>\n",
    "</tr>\n",
    "<tr>\n",
    "<td>&lt;=</td>\n",
    "<td>Зүүн утга баруунаас бага буюу тэнцүү бол True буцаана.</td>\n",
    "<td> (a &lt;= b) нь True. </td>\n",
    "</tr>\n",
    "</table>\n",
    "\n",
    "### Logical Operators\n",
    "x = True, y = False гэж үзье.\n",
    "\n",
    "<table class=\"table table-bordered\">\n",
    "<tr>\n",
    "<th style=\"width:10%\">Оператор</th><th style=\"width:45%\">Тайлбар</th><th>Жишээ</th>\n",
    "</tr>\n",
    "<tr>\n",
    "<td>and</td>\n",
    "<td>Бүгд True бол True буцаана.</td>\n",
    "<td> (x and y) нь False.</td>\n",
    "</tr>\n",
    "<tr>\n",
    "<td>or</td>\n",
    "<td>Аль нэг нь True бол True буцаана.</td>\n",
    "<td>(x or y) нь True.</td>\n",
    "</tr>\n",
    "<tr>\n",
    "<td>not</td>\n",
    "<td>Худлаа гэдэг нь үнэн үү гэж асууна.</td>\n",
    "<td> not (x and y) нь True.</td>\n",
    "</tr>\n",
    "<tr>\n",
    "</table>"
   ]
  },
  {
   "cell_type": "code",
   "execution_count": 1,
   "metadata": {},
   "outputs": [
    {
     "data": {
      "text/plain": [
       "False"
      ]
     },
     "execution_count": 1,
     "metadata": {},
     "output_type": "execute_result"
    }
   ],
   "source": [
    "10 > 8 and 20 < 15"
   ]
  },
  {
   "cell_type": "code",
   "execution_count": 2,
   "metadata": {},
   "outputs": [
    {
     "data": {
      "text/plain": [
       "False"
      ]
     },
     "execution_count": 2,
     "metadata": {},
     "output_type": "execute_result"
    }
   ],
   "source": [
    "not 100 > 50"
   ]
  }
 ],
 "metadata": {
  "kernelspec": {
   "display_name": "Python 3",
   "language": "python",
   "name": "python3"
  },
  "language_info": {
   "codemirror_mode": {
    "name": "ipython",
    "version": 3
   },
   "file_extension": ".py",
   "mimetype": "text/x-python",
   "name": "python",
   "nbconvert_exporter": "python",
   "pygments_lexer": "ipython3",
   "version": "3.7.4"
  }
 },
 "nbformat": 4,
 "nbformat_minor": 2
}
