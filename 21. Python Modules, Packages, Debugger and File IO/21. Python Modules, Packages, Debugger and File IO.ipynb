{
 "cells": [
  {
   "cell_type": "markdown",
   "metadata": {},
   "source": [
    "# Python Modules, Packages, Debugger and File IO"
   ]
  },
  {
   "cell_type": "markdown",
   "metadata": {},
   "source": [
    "### Python Modules and Packages"
   ]
  },
  {
   "cell_type": "markdown",
   "metadata": {},
   "source": [
    "Тусдаа файлд агуулагдах кодыг `module` гэнэ. Тодорхой зорилготой олон module агуулсан бол `package` гэж нэрлэнэ. 2 ангилж болно.\n",
    "- Built-in modules (Python суулгахад дагалдаж ирдэг бэлэн module, package-ууд. https://docs.python.org/3/py-modindex.html)\n",
    "- Custom modules (Python package index буюу PyPi-аас бусад хөгжүүлэгчдийн бичсэн package-уудыг pip ашиглан суулгана.)"
   ]
  },
  {
   "cell_type": "markdown",
   "metadata": {},
   "source": [
    "#### Built-in modules"
   ]
  },
  {
   "cell_type": "code",
   "execution_count": 9,
   "metadata": {},
   "outputs": [
    {
     "name": "stdout",
     "output_type": "stream",
     "text": [
      "4\n",
      "22:20:20\n",
      "2019-11-15\n"
     ]
    }
   ],
   "source": [
    "# тухайн file-ийн namespace-д module оруулахдаа import ашиглана.\n",
    "import random\n",
    "import datetime\n",
    "\n",
    "# random тоо үүсгэх\n",
    "print(random.randint(0, 10))\n",
    "\n",
    "# time үүсгэх\n",
    "print(datetime.time(22, 20, 20))\n",
    "\n",
    "# өнөөдрийн огноог авах\n",
    "print(datetime.date.today())"
   ]
  },
  {
   "cell_type": "code",
   "execution_count": 6,
   "metadata": {},
   "outputs": [
    {
     "name": "stdout",
     "output_type": "stream",
     "text": [
      "Counter({3: 2, 1: 1, 2: 1})\n",
      "Ийм нэртэй key байхгүй\n"
     ]
    }
   ],
   "source": [
    "# тухайн file-ийн namespace-д ямар нэгэн package-ийн module оруулахдаа from ашиглана.\n",
    "# оруулсан module-д as ашиглан өөр нэр өгч болно.\n",
    "from collections import Counter, defaultdict as DefDict\n",
    "\n",
    "print(Counter([ 1, 2, 3, 3 ]))\n",
    "\n",
    "default_dict = DefDict(lambda: 'Ийм нэртэй key байхгүй', { 'a': 1, 'b': 100, 'c': 4 })\n",
    "print(default_dict['e'])"
   ]
  },
  {
   "cell_type": "markdown",
   "metadata": {},
   "source": [
    "#### Custom modules\n",
    "\n",
    "Бусад хөгжүүлэгчдийн бичсэн бэлэн сан (modules/packages)-г `pip install` комманд ашиглан суулгана. Жишээ нь: `pip install pyjokes`"
   ]
  },
  {
   "cell_type": "markdown",
   "metadata": {},
   "source": [
    "# Debugger"
   ]
  },
  {
   "cell_type": "markdown",
   "metadata": {},
   "source": [
    "Кодын алдаа хайхыг debug гэнэ. Python-оос хангаж өгсөн бэлэн `pdb` санг ашиглан кодоо debug хийж болно."
   ]
  },
  {
   "cell_type": "code",
   "execution_count": null,
   "metadata": {},
   "outputs": [],
   "source": [
    "def add(num1, num2):\n",
    "    sum = num1 + num2\n",
    "    return sum\n",
    "\n",
    "import pdb\n",
    "pdb.set_trace()\n",
    "\n",
    "num1 = input('num1: ')\n",
    "num2 = input('num2: ')\n",
    "result = add(num1, num2)\n",
    "print(result)"
   ]
  },
  {
   "cell_type": "markdown",
   "metadata": {},
   "source": [
    "Дараах аргуудаар pdb-г ашиглан кодыг debug-даж болно.\n",
    "\n",
    "- import pdb\n",
    "  pdb.set_trace()\n",
    "  \n",
    "- python -m pdb test.py"
   ]
  },
  {
   "cell_type": "markdown",
   "metadata": {},
   "source": [
    "### File IO"
   ]
  },
  {
   "cell_type": "markdown",
   "metadata": {},
   "source": [
    "Файлыг уншиж, файл руу бичих боломжтой."
   ]
  },
  {
   "cell_type": "code",
   "execution_count": 6,
   "metadata": {},
   "outputs": [
    {
     "name": "stdout",
     "output_type": "stream",
     "text": [
      "Hello ulaanbaatar\n",
      "Air pollution\n",
      "Hello ulaanbaatar\n",
      "Air pollution\n",
      "Hello ulaanbaatar\n",
      "\n",
      "Air pollution\n",
      "['Hello ulaanbaatar\\n', 'Air pollution']\n"
     ]
    }
   ],
   "source": [
    "# файлыг хувьсагчид оноох\n",
    "my_file = open('my_file.txt')\n",
    "\n",
    "# файлыг унших\n",
    "print(my_file.read())\n",
    "\n",
    "# файлын заагч буюу курсорыг файлын эхэнд аваачих\n",
    "my_file.seek(0)\n",
    "\n",
    "# файлыг унших\n",
    "print(my_file.read())\n",
    "\n",
    "my_file.seek(0)\n",
    "# файлыг мөр мөрөөр унших\n",
    "print(my_file.readline())\n",
    "\n",
    "# файлыг мөр мөрөөр унших\n",
    "print(my_file.readline())\n",
    "\n",
    "my_file.seek(0)\n",
    "# файлын бүх мөрийг унших\n",
    "print(my_file.readlines())\n",
    "\n",
    "# файлыг нээсэн бол заавал хаана. Энэ нь өөр газраас зэрэг тухайн файлд үйлдэл хийх боломжийг олгоно.\n",
    "my_file.close()"
   ]
  },
  {
   "cell_type": "code",
   "execution_count": 7,
   "metadata": {},
   "outputs": [
    {
     "name": "stdout",
     "output_type": "stream",
     "text": [
      "Hello ulaanbaatar\n",
      "Air pollution\n"
     ]
    }
   ],
   "source": [
    "# файлыг заавал хаахгүйгээр дараах байдлаар нээж уншиж болно.\n",
    "with open('my_file.txt') as my_file:\n",
    "    print(my_file.read())"
   ]
  },
  {
   "cell_type": "code",
   "execution_count": 9,
   "metadata": {},
   "outputs": [
    {
     "name": "stdout",
     "output_type": "stream",
     "text": [
      "ar\n",
      "Air pollution\n"
     ]
    }
   ],
   "source": [
    "# файлыг унших болон бичих горимоор нээх.\n",
    "with open('my_file.txt', mode='r+') as my_file:\n",
    "    my_file.write('New information')\n",
    "    print(my_file.read())"
   ]
  },
  {
   "cell_type": "code",
   "execution_count": 11,
   "metadata": {},
   "outputs": [],
   "source": [
    "# файл дээр нэмж бичих горимоор нээх.\n",
    "with open('my_file.txt', mode='a') as my_file:\n",
    "    my_file.write('New information')"
   ]
  },
  {
   "cell_type": "code",
   "execution_count": 14,
   "metadata": {},
   "outputs": [
    {
     "name": "stdout",
     "output_type": "stream",
     "text": [
      "New informationar\n",
      "Air pollutionNew informationNew information\n"
     ]
    }
   ],
   "source": [
    "# файлыг унших горимоор нээх.\n",
    "with open('my_file.txt', mode='r') as my_file:\n",
    "    print(my_file.read())"
   ]
  },
  {
   "cell_type": "code",
   "execution_count": 15,
   "metadata": {},
   "outputs": [],
   "source": [
    "# файлыг дарж бичих горимоор нээх.\n",
    "with open('my_file.txt', mode='w') as my_file:\n",
    "    my_file.write('new text\\n hello it is UB')"
   ]
  },
  {
   "cell_type": "code",
   "execution_count": 16,
   "metadata": {},
   "outputs": [
    {
     "name": "stdout",
     "output_type": "stream",
     "text": [
      "new text\n",
      " hello it is UB\n"
     ]
    }
   ],
   "source": [
    "# файлыг унших горимоор нээх.\n",
    "with open('my_file.txt', mode='r') as my_file:\n",
    "    print(my_file.read())"
   ]
  }
 ],
 "metadata": {
  "kernelspec": {
   "display_name": "Python 3",
   "language": "python",
   "name": "python3"
  },
  "language_info": {
   "codemirror_mode": {
    "name": "ipython",
    "version": 3
   },
   "file_extension": ".py",
   "mimetype": "text/x-python",
   "name": "python",
   "nbconvert_exporter": "python",
   "pygments_lexer": "ipython3",
   "version": "3.7.4"
  }
 },
 "nbformat": 4,
 "nbformat_minor": 2
}
