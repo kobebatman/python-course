{
 "cells": [
  {
   "cell_type": "markdown",
   "metadata": {},
   "source": [
    "# Python Comprehensions, Error Handling and Decorators"
   ]
  },
  {
   "cell_type": "markdown",
   "metadata": {},
   "source": [
    "### List and Set comprehensions"
   ]
  },
  {
   "cell_type": "code",
   "execution_count": 2,
   "metadata": {},
   "outputs": [
    {
     "name": "stdout",
     "output_type": "stream",
     "text": [
      "['k', 'b']\n"
     ]
    }
   ],
   "source": [
    "# Давтагдсан элемэнттэй list\n",
    "my_list = [ 'a', 'b', 'c', 'd', 'k', 'k', 'b' ]\n",
    "\n",
    "duplicated_elements = []\n",
    "for item in my_list:\n",
    "    if my_list.count(item) > 1:\n",
    "        duplicated_elements.append(item)\n",
    "\n",
    "# Давтагдсан элемэнтүүд зөвхөн 1 удаа орсон list үүсгэх        \n",
    "duplicated_elements = list(set(duplicated_elements))\n",
    "print(duplicated_elements)"
   ]
  },
  {
   "cell_type": "code",
   "execution_count": 3,
   "metadata": {},
   "outputs": [
    {
     "name": "stdout",
     "output_type": "stream",
     "text": [
      "['k', 'b']\n"
     ]
    }
   ],
   "source": [
    "# Дээрх үйлдлийг set comprehension ашиглан дараах байдлаар бичиж болно.\n",
    "duplicated_elements = list({ item for item in my_list if my_list.count(item) > 1 })\n",
    "print(duplicated_elements)"
   ]
  },
  {
   "cell_type": "code",
   "execution_count": 5,
   "metadata": {},
   "outputs": [
    {
     "name": "stdout",
     "output_type": "stream",
     "text": [
      "['k', 'b']\n"
     ]
    }
   ],
   "source": [
    "# Дээрх үйлдлийг list comprehension ашиглан дараах байдлаар бичиж болно.\n",
    "duplicated_elements = list(set([ item for item in my_list if my_list.count(item) > 1 ]))\n",
    "print(duplicated_elements)"
   ]
  },
  {
   "cell_type": "markdown",
   "metadata": {},
   "source": [
    "### Dictionary comprehension"
   ]
  },
  {
   "cell_type": "code",
   "execution_count": 8,
   "metadata": {},
   "outputs": [
    {
     "name": "stdout",
     "output_type": "stream",
     "text": [
      "{'Bold': 50, 'Dorj': 60, 'Dulam': 80}\n"
     ]
    }
   ],
   "source": [
    "# Хүмүүсийн нэр наснаас бүрдсэн dictionary\n",
    "people = {\n",
    "    'Bold': 25,\n",
    "    'Dorj': 30,\n",
    "    'Dulam': 40\n",
    "}\n",
    "\n",
    "# Насыг 2 дахин нэмсэн шинэ dictionary үүсгэх\n",
    "old_people = { key: value * 2 for key, value in people.items() }\n",
    "print(old_people)"
   ]
  },
  {
   "cell_type": "markdown",
   "metadata": {},
   "source": [
    "### Error Handling\n",
    "\n",
    "Хэрэв бичсэн эх код ямар нэгэн алдаатай бол (NameError, TypeError, ZeroDivisionError, ...) python interpreter бидэнд алдааны мэдээллийг мэдэгдэж програмын ажиллагааг зогсоодог. Алдаа гарсан тохиолдолд тухайн алдааг барьж авч улмаар програмаас гаралгүйгээр кодын ажиллагааг цааш үргэлжлүүлэх боломжтой."
   ]
  },
  {
   "cell_type": "code",
   "execution_count": 15,
   "metadata": {},
   "outputs": [
    {
     "name": "stdout",
     "output_type": "stream",
     "text": [
      "Нас оруулна уу: 0\n",
      "except дотор дахин алдаа тохиолдов.\n",
      "Эцэст нь баярлалаа.\n"
     ]
    }
   ],
   "source": [
    "# Алдаа гарч болзошгүй block statement-үүдийг агуулна.\n",
    "try:\n",
    "    age = int(input('Нас оруулна уу: '))\n",
    "    100/age\n",
    "# try доторх код ValueError төрлийн алдаа гаргасан тохиолдолд ажиллана.\n",
    "except ValueError as val_err:\n",
    "    print(f'Тоо оруулна уу! {val_err}')\n",
    "\n",
    "# try доторх код ZeroDivisionError төрлийн алдаа гаргасан тохиолдолд ажиллана.\n",
    "except ZeroDivisionError as zero_err:\n",
    "    \n",
    "    # except доторх код алдаатай бол барьж авах error handling.\n",
    "    try:\n",
    "        print(f'Тоог 0-т хувааж болохгүй! {val_err}')\n",
    "    except:\n",
    "        print('except дотор дахин алдаа тохиолдов.')\n",
    "# try доторх код алдаагүй үед ажиллана.\n",
    "else:\n",
    "    print(f'Алдаа гарсангүй. Оруулсан нас {age}')\n",
    "\n",
    "# Алдаа гарсан ч эс гарсан ч ажиллана.\n",
    "finally:\n",
    "    print(f'Эцэст нь баярлалаа.')"
   ]
  },
  {
   "cell_type": "markdown",
   "metadata": {},
   "source": [
    "### Decorators\n",
    "\n",
    "Python decorator function-ыг ашиглан ямар нэгэн function-ыг өргөтгөж болно. Decorator нь HOF (Higher Order Function)-ы 2 шинж чанарыг нэгтгэсэн хэлбэртэй байна. HOF нь дараах 2 шинжийг өөртөө агуулна.\n",
    "1. Function төрлийн параметртэй, мөн тухайн function-аа өөр дотроо ажиллуулсан.\n",
    "2. Function өөртөө зарлаад тухайн function-аа буцаасан."
   ]
  },
  {
   "cell_type": "code",
   "execution_count": 21,
   "metadata": {},
   "outputs": [
    {
     "name": "stdout",
     "output_type": "stream",
     "text": [
      "Үүнийг ажиллуулахад 0.31000399589538574 секунд зарцуулав.\n",
      "Үүнийг ажиллуулахад 0.34099483489990234 секунд зарцуулав.\n"
     ]
    }
   ],
   "source": [
    "# HOF-ын бүх шинжийг агуулсан function буюу decorator function-ы тодорхойлолт.\n",
    "from time import time \n",
    "\n",
    "def show_duration(func):\n",
    "    def wrapper(*args, **kwargs):\n",
    "        start_time = time()\n",
    "        \n",
    "        func(*args, **kwargs)\n",
    "       \n",
    "        end_time = time()\n",
    "        print(f'Үүнийг ажиллуулахад {end_time - start_time} секунд зарцуулав.')\n",
    "    return wrapper\n",
    "\n",
    "def loop_it():\n",
    "    for item in range(10000000):\n",
    "        pass\n",
    "    \n",
    "@show_duration\n",
    "def loop_it_2():\n",
    "    for item in range(10000000):\n",
    "        pass\n",
    "\n",
    "# Ажиллуулах арга-1\n",
    "show_duration(loop_it)()\n",
    "\n",
    "# Ажиллуулах арга-2\n",
    "loop_it_2()"
   ]
  }
 ],
 "metadata": {
  "kernelspec": {
   "display_name": "Python 3",
   "language": "python",
   "name": "python3"
  },
  "language_info": {
   "codemirror_mode": {
    "name": "ipython",
    "version": 3
   },
   "file_extension": ".py",
   "mimetype": "text/x-python",
   "name": "python",
   "nbconvert_exporter": "python",
   "pygments_lexer": "ipython3",
   "version": "3.7.4"
  }
 },
 "nbformat": 4,
 "nbformat_minor": 2
}
