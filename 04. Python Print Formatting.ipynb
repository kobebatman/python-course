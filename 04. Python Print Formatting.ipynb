{
 "cells": [
  {
   "cell_type": "markdown",
   "metadata": {},
   "source": [
    "# String Formatting\n",
    "\n",
    "Тэмдэгтийг дараах байдлаар хэлбэржүүлж болно.\n",
    "\n",
    "    player = 'Болд'\n",
    "    points = 33\n",
    "    \n",
    "    'Өнгөрсөн тоглолтонд ' + player + ' гэдэг тоглогч ' + str(points) + ' оноо авсан.'  # залгах\n",
    "    \n",
    "            f'Өнгөрсөн тоглолтонд {player} гэдэг тоглогч {points} оноо авсан.'          # string formatting\n",
    "\n",
    "\n",
    "Тэмдэгт мөрийг дараах 3 хэлбэрээр хэлбэржүүлнэ.\n",
    "* Хуучин Python 2 - ийн `%` ашиглан,\n",
    "* `.format()` функцийг ашиглан,\n",
    "* Шинэ Python 3.6 - ийн *f-strings* ашиглаж."
   ]
  },
  {
   "cell_type": "markdown",
   "metadata": {},
   "source": [
    "### Formatting with placeholders\n",
    "`%` оператор ашиглан хэлбэржүүлэх."
   ]
  },
  {
   "cell_type": "code",
   "execution_count": 1,
   "metadata": {},
   "outputs": [
    {
     "name": "stdout",
     "output_type": "stream",
     "text": [
      "Тэмдэгт энд орно.\n"
     ]
    }
   ],
   "source": [
    "print(\"Тэмдэгт %s орно.\" % 'энд')"
   ]
  },
  {
   "cell_type": "code",
   "execution_count": 2,
   "metadata": {},
   "outputs": [
    {
     "name": "stdout",
     "output_type": "stream",
     "text": [
      "Тэмдэгт энд орно. Мөн тэнд орно\n"
     ]
    }
   ],
   "source": [
    "print(\"Тэмдэгт %s орно. Мөн %s орно\" % ('энд', 'тэнд'))"
   ]
  },
  {
   "cell_type": "markdown",
   "metadata": {},
   "source": [
    "`%s` болон `%r` нь `str()` болон `repr()` функцийг тус тус ашиглан дараах байдлаар хэлбэржүүлнэ."
   ]
  },
  {
   "cell_type": "code",
   "execution_count": 3,
   "metadata": {},
   "outputs": [
    {
     "name": "stdout",
     "output_type": "stream",
     "text": [
      "Түүний нэрийг Батаа гэдэг\n",
      "Түүний нэрийг 'Батаа' гэдэг.\n"
     ]
    }
   ],
   "source": [
    "print('Түүний нэрийг %s гэдэг' % 'Батаа')\n",
    "print('Түүний нэрийг %r гэдэг.' % 'Батаа')"
   ]
  },
  {
   "cell_type": "markdown",
   "metadata": {},
   "source": [
    "`\\t` нь тэмдэгт мөр рүү tab оруулна."
   ]
  },
  {
   "cell_type": "code",
   "execution_count": 4,
   "metadata": {},
   "outputs": [
    {
     "name": "stdout",
     "output_type": "stream",
     "text": [
      "Монгол хүн Монголын \t баялаг\n",
      "Монгол хүн 'Монголын \\t баялаг' \n"
     ]
    }
   ],
   "source": [
    "print('Монгол хүн %s' % 'Монголын \\t баялаг')\n",
    "print('Монгол хүн %r ' % 'Монголын \\t баялаг')"
   ]
  },
  {
   "cell_type": "markdown",
   "metadata": {},
   "source": [
    "`%s` нь шууд тэмдэгт руу хөрвүүлэх бол `%d` нь бүхэл тоо руу ойролцоолж хөрвүүлнэ"
   ]
  },
  {
   "cell_type": "code",
   "execution_count": 7,
   "metadata": {},
   "outputs": [
    {
     "name": "stdout",
     "output_type": "stream",
     "text": [
      "Би өнөөдөр 3.75 литр айраг уусан.\n",
      "Би өнөөдөр 3 литр айраг уусан.\n"
     ]
    }
   ],
   "source": [
    "print('Би өнөөдөр %s литр айраг уусан.' %3.75)\n",
    "print('Би өнөөдөр %d литр айраг уусан.' %3.75)"
   ]
  },
  {
   "cell_type": "markdown",
   "metadata": {},
   "source": [
    "Бутархай тоог `%5.2f` форматаар хэлбэржүүлэв. Энд `5` нь хэлбэржиж буй тоо хамгийн багадаа агуулах тэмдэгтийн хэмжээг зааж байгаа бол `.2f` нь бутархайн оронг илтгэнэ."
   ]
  },
  {
   "cell_type": "code",
   "execution_count": 8,
   "metadata": {},
   "outputs": [
    {
     "name": "stdout",
     "output_type": "stream",
     "text": [
      "Бутархай тоо: 13.14\n"
     ]
    }
   ],
   "source": [
    "print('Бутархай тоо: %5.2f' %(13.144))"
   ]
  },
  {
   "cell_type": "code",
   "execution_count": 9,
   "metadata": {},
   "outputs": [
    {
     "name": "stdout",
     "output_type": "stream",
     "text": [
      "Бутархай тоо: 13\n"
     ]
    }
   ],
   "source": [
    "print('Бутархай тоо: %1.0f' %(13.144))"
   ]
  },
  {
   "cell_type": "code",
   "execution_count": 10,
   "metadata": {},
   "outputs": [
    {
     "name": "stdout",
     "output_type": "stream",
     "text": [
      "Бутархай тоо: 13.14400\n"
     ]
    }
   ],
   "source": [
    "print('Бутархай тоо: %1.5f' %(13.144))"
   ]
  },
  {
   "cell_type": "code",
   "execution_count": 11,
   "metadata": {},
   "outputs": [
    {
     "name": "stdout",
     "output_type": "stream",
     "text": [
      "Бутархай тоо:      13.14\n"
     ]
    }
   ],
   "source": [
    "print('Бутархай тоо: %10.2f' %(13.144))"
   ]
  },
  {
   "cell_type": "code",
   "execution_count": 12,
   "metadata": {},
   "outputs": [
    {
     "name": "stdout",
     "output_type": "stream",
     "text": [
      "Бутархай тоо:                     13.14\n"
     ]
    }
   ],
   "source": [
    "print('Бутархай тоо: %25.2f' %(13.144))"
   ]
  },
  {
   "cell_type": "code",
   "execution_count": 13,
   "metadata": {},
   "outputs": [
    {
     "name": "stdout",
     "output_type": "stream",
     "text": [
      "Эхнийх: hi!, Хоёр дахь:  3.14, Гурав дахь: 'bye!'\n"
     ]
    }
   ],
   "source": [
    "print('Эхнийх: %s, Хоёр дахь: %5.2f, Гурав дахь: %r' % ('hi!', 3.1415, 'bye!'))"
   ]
  },
  {
   "cell_type": "markdown",
   "metadata": {},
   "source": [
    "### Formatting with the `.format()` method\n",
    "`.format()` функц ашиглан хэлбэржүүлэх."
   ]
  },
  {
   "cell_type": "code",
   "execution_count": 14,
   "metadata": {
    "scrolled": false
   },
   "outputs": [
    {
     "name": "stdout",
     "output_type": "stream",
     "text": [
      "Сагсан бөмбөгийн хичээл\n"
     ]
    }
   ],
   "source": [
    "print('Сагсан бөмбөгийн {}'.format('хичээл'))"
   ]
  },
  {
   "cell_type": "markdown",
   "metadata": {},
   "source": [
    "#### 1. Байрлалын индекс ашиглан хэлбэржүүлэх:"
   ]
  },
  {
   "cell_type": "code",
   "execution_count": 15,
   "metadata": {},
   "outputs": [
    {
     "name": "stdout",
     "output_type": "stream",
     "text": [
      "Python кодчилох ашиглан хэл\n"
     ]
    }
   ],
   "source": [
    "print('Python {2} {1} {0}'.format('хэл','ашиглан','кодчилох'))"
   ]
  },
  {
   "cell_type": "markdown",
   "metadata": {},
   "source": [
    "#### 2. Түлхүүр үгээр хэлбэржүүлэх:"
   ]
  },
  {
   "cell_type": "code",
   "execution_count": 16,
   "metadata": {},
   "outputs": [
    {
     "name": "stdout",
     "output_type": "stream",
     "text": [
      "Нэгдүгээрх: 1, Хоёрдугаарх: Two, Гуравдугаарх: 12.3\n"
     ]
    }
   ],
   "source": [
    "print('Нэгдүгээрх: {a}, Хоёрдугаарх: {b}, Гуравдугаарх: {c}'.format(a=1, b='Two', c=12.3))"
   ]
  },
  {
   "cell_type": "markdown",
   "metadata": {},
   "source": [
    "#### 3. Түлхүүр үгээр дахин ашиглах"
   ]
  },
  {
   "cell_type": "code",
   "execution_count": 17,
   "metadata": {},
   "outputs": [
    {
     "name": "stdout",
     "output_type": "stream",
     "text": [
      "Батын өндөр 190 см, биеийн жин 65 кг.\n",
      "Батын өндөр 190 см, биеийн жин 190 кг.\n"
     ]
    }
   ],
   "source": [
    "print('Батын өндөр %s см, биеийн жин %s кг.' %('190','65'))\n",
    "# vs.\n",
    "print('Батын өндөр {p} см, биеийн жин {p} кг.'.format(p=190))"
   ]
  },
  {
   "cell_type": "markdown",
   "metadata": {},
   "source": [
    "### Alignment, padding\n",
    "`{}` ашиглан зайн хэмжээ тохируулах, боломжтой."
   ]
  },
  {
   "cell_type": "code",
   "execution_count": 18,
   "metadata": {},
   "outputs": [
    {
     "name": "stdout",
     "output_type": "stream",
     "text": [
      "Ногоо    | Тоо ширхэг\n",
      "Лууван   |         3\n",
      "Төмс     |        10\n"
     ]
    }
   ],
   "source": [
    "print('{0:8} | {1:9}'.format('Ногоо', 'Тоо ширхэг'))\n",
    "print('{0:8} | {1:9}'.format('Лууван', 3))\n",
    "print('{0:8} | {1:9}'.format('Төмс', 10))"
   ]
  },
  {
   "cell_type": "markdown",
   "metadata": {},
   "source": [
    "`.format()` default - оор текстийг зүүн тийш, тоог баруун тийш тэгшилнэ. `<` - зүүн тийш, `^` - гол дунд, `>` - баруун тийш."
   ]
  },
  {
   "cell_type": "code",
   "execution_count": 19,
   "metadata": {},
   "outputs": [
    {
     "name": "stdout",
     "output_type": "stream",
     "text": [
      "Зүүн     |   Дунд   |   Баруун\n",
      "11       |    22    |       33\n"
     ]
    }
   ],
   "source": [
    "print('{0:<8} | {1:^8} | {2:>8}'.format('Зүүн','Дунд','Баруун'))\n",
    "print('{0:<8} | {1:^8} | {2:>8}'.format(11,22,33))"
   ]
  },
  {
   "cell_type": "markdown",
   "metadata": {},
   "source": [
    "Padding буюу дүүргэх тэмдэгт оруулж болно."
   ]
  },
  {
   "cell_type": "code",
   "execution_count": 20,
   "metadata": {},
   "outputs": [
    {
     "name": "stdout",
     "output_type": "stream",
     "text": [
      "Зүүн==== | --Дунд-- | ..Баруун\n",
      "11====== | ---22--- | ......33\n"
     ]
    }
   ],
   "source": [
    "print('{0:=<8} | {1:-^8} | {2:.>8}'.format('Зүүн','Дунд','Баруун'))\n",
    "print('{0:=<8} | {1:-^8} | {2:.>8}'.format(11,22,33))"
   ]
  },
  {
   "cell_type": "markdown",
   "metadata": {},
   "source": [
    "Бутархай тоог хэлбэржүүлэх нь `%` ашиглан хэлбэржүүлэхтэй төстэй."
   ]
  },
  {
   "cell_type": "code",
   "execution_count": 21,
   "metadata": {},
   "outputs": [
    {
     "name": "stdout",
     "output_type": "stream",
     "text": [
      "Хамгийн багадаа 10 тэмдэгттэй, 2 оронгийн бутархайтай тоо:     13.58\n",
      "Хамгийн багадаа 10 тэмдэгттэй, 2 оронгийн бутархайтай тоо:     13.58\n"
     ]
    }
   ],
   "source": [
    "print('Хамгийн багадаа 10 тэмдэгттэй, 2 оронгийн бутархайтай тоо:%10.2f' % 13.579)\n",
    "print('Хамгийн багадаа 10 тэмдэгттэй, 2 оронгийн бутархайтай тоо:{0:10.2f}'.format(13.579))"
   ]
  },
  {
   "cell_type": "markdown",
   "metadata": {},
   "source": [
    "### Formatting with (f-strings)"
   ]
  },
  {
   "cell_type": "markdown",
   "metadata": {},
   "source": [
    "Python 3.6 дээр анх танилцуулагдсан тэмдэгт мөрийг шинээр хэлбэржүүлэх боломж."
   ]
  },
  {
   "cell_type": "code",
   "execution_count": 22,
   "metadata": {},
   "outputs": [
    {
     "name": "stdout",
     "output_type": "stream",
     "text": [
      "Түүний нэрийг Болдоо гэдэг.\n"
     ]
    }
   ],
   "source": [
    "name = 'Болдоо'\n",
    "\n",
    "print(f\"Түүний нэрийг {name} гэдэг.\")"
   ]
  },
  {
   "cell_type": "markdown",
   "metadata": {},
   "source": [
    "Текст хэлбэрээр гаргахдаа `!r` ашиглана."
   ]
  },
  {
   "cell_type": "code",
   "execution_count": 23,
   "metadata": {},
   "outputs": [
    {
     "name": "stdout",
     "output_type": "stream",
     "text": [
      "Түүний нэрийг 'Болдоо' гэдэг\n"
     ]
    }
   ],
   "source": [
    "print(f\"Түүний нэрийг {name!r} гэдэг\")"
   ]
  },
  {
   "cell_type": "markdown",
   "metadata": {},
   "source": [
    "Бутархай тоог `{утга:{урт}.{оронгийн нарийвчлалтай урт}}` байдлаар хэлбэржүүлнэ.\n"
   ]
  },
  {
   "cell_type": "code",
   "execution_count": 24,
   "metadata": {},
   "outputs": [
    {
     "name": "stdout",
     "output_type": "stream",
     "text": [
      "10 тэмдэгтийн урттай 4 орны нарийвчлалтай бутархай тоо:   23.4568\n",
      "10 тэмдэгтийн урттай 4 орны нарийвчлалтай бутархай тоо:   23.4568\n"
     ]
    }
   ],
   "source": [
    "num = 23.45678\n",
    "print(\"10 тэмдэгтийн урттай 4 орны нарийвчлалтай бутархай тоо:{0:10.4f}\".format(num))\n",
    "print(f\"10 тэмдэгтийн урттай 4 орны нарийвчлалтай бутархай тоо:{num:{10}.{6}}\")"
   ]
  },
  {
   "cell_type": "markdown",
   "metadata": {},
   "source": [
    "Оронгийн нарийвчлалтай урт нь бутархай тооны бүх уртыг илтгэнэ."
   ]
  },
  {
   "cell_type": "code",
   "execution_count": 25,
   "metadata": {},
   "outputs": [
    {
     "name": "stdout",
     "output_type": "stream",
     "text": [
      "10 тэмдэгтийн урттай 4 орны нарийвчлалтай бутархай тоо:   23.4500\n",
      "10 тэмдэгтийн урттай 4 орны нарийвчлалтай бутархай тоо:     23.45\n"
     ]
    }
   ],
   "source": [
    "num = 23.45\n",
    "print(\"10 тэмдэгтийн урттай 4 орны нарийвчлалтай бутархай тоо:{0:10.4f}\".format(num))\n",
    "print(f\"10 тэмдэгтийн урттай 4 орны нарийвчлалтай бутархай тоо:{num:{10}.{6}}\")"
   ]
  },
  {
   "cell_type": "markdown",
   "metadata": {},
   "source": [
    "Бутархайн нарийвчлалыг тусдаа тодорхойлохыг хүсвэл дараах байдлаар ашиглана."
   ]
  },
  {
   "cell_type": "code",
   "execution_count": 26,
   "metadata": {},
   "outputs": [
    {
     "name": "stdout",
     "output_type": "stream",
     "text": [
      "10 тэмдэгтийн урттай 4 орны нарийвчлалтай бутархай тоо:   23.4500\n",
      "10 тэмдэгтийн урттай 4 орны нарийвчлалтай бутархай тоо:   23.4500\n"
     ]
    }
   ],
   "source": [
    "num = 23.45\n",
    "print(\"10 тэмдэгтийн урттай 4 орны нарийвчлалтай бутархай тоо:{0:10.4f}\".format(num))\n",
    "print(f\"10 тэмдэгтийн урттай 4 орны нарийвчлалтай бутархай тоо:{num:10.4f}\")"
   ]
  }
 ],
 "metadata": {
  "kernelspec": {
   "display_name": "Python 3",
   "language": "python",
   "name": "python3"
  },
  "language_info": {
   "codemirror_mode": {
    "name": "ipython",
    "version": 3
   },
   "file_extension": ".py",
   "mimetype": "text/x-python",
   "name": "python",
   "nbconvert_exporter": "python",
   "pygments_lexer": "ipython3",
   "version": "3.7.4"
  }
 },
 "nbformat": 4,
 "nbformat_minor": 1
}
