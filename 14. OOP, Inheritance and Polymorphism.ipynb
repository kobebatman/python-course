{
 "cells": [
  {
   "cell_type": "markdown",
   "metadata": {},
   "source": [
    "# OOP, Inheritance and Polymorphism"
   ]
  },
  {
   "cell_type": "markdown",
   "metadata": {},
   "source": [
    "`DRY` буюу Do Not Repeat Yourself зармыг хангахын тулд нийтлэг байгаа method-уудыг агуулсан эх class бичээд түүнээс тэдгээр method-уудыг өвлөж авах явдлыг **inheritance** буюу удамшил гэж нэрлэнэ."
   ]
  },
  {
   "cell_type": "code",
   "execution_count": 9,
   "metadata": {},
   "outputs": [
    {
     "name": "stdout",
     "output_type": "stream",
     "text": [
      "person is speaking\n",
      "person is speaking\n",
      "player is speaking\n"
     ]
    }
   ],
   "source": [
    "class Person:\n",
    "\n",
    "    def __init__(self, name, age):\n",
    "        self.name = name\n",
    "        self.age = age\n",
    "\n",
    "    def speak(self):\n",
    "        print('person is speaking')\n",
    "\n",
    "# Person class-аас удамшуулснаар уг class-ын speak() method-ыг өвлөн авна.\n",
    "class Singer(Person):\n",
    "\n",
    "    def __init__(self, song):\n",
    "        self.song = song\n",
    "        \n",
    "    def sing(self):\n",
    "        print('singer is singing')\n",
    "        \n",
    "# Person, Singer class-уудаас удамшуулснаар эдгээр class-уудын speak(), sing() method-уудыг өвлөн авна.\n",
    "class Player(Person):\n",
    "    \n",
    "    def __init__(self, team):\n",
    "        self.team = team\n",
    "        \n",
    "    def play(self):\n",
    "        print('player is playing')\n",
    "    \n",
    "    # override\n",
    "    # - удамшуулсан class-ын method-ыг дарж тодорхойлох боломжтой.\n",
    "    def speak(self):\n",
    "        print('player is speaking')\n",
    "\n",
    "person = Person('Bold', 20)\n",
    "singer = Singer('Billie Jean')\n",
    "player = Player('Lakers')\n",
    "\n",
    "person.speak()\n",
    "singer.speak()\n",
    "player.speak()\n"
   ]
  },
  {
   "cell_type": "markdown",
   "metadata": {},
   "source": [
    "Олон class-ын өөр өөр object-ууд адил нэртэй method-уудтай байж болно. Эдгээрийг нэг зарчмаар дуудах боломжийг **polymorphism** гэнэ."
   ]
  },
  {
   "cell_type": "code",
   "execution_count": 11,
   "metadata": {},
   "outputs": [
    {
     "name": "stdout",
     "output_type": "stream",
     "text": [
      "person is speaking\n",
      "person is speaking\n",
      "player is speaking\n"
     ]
    }
   ],
   "source": [
    "# нэгэн ижил нөхцөлд адил нэртэй method-уудыг дуудах - 1\n",
    "for obj in [ person, singer, player ]:   \n",
    "    obj.speak()"
   ]
  },
  {
   "cell_type": "code",
   "execution_count": 13,
   "metadata": {},
   "outputs": [
    {
     "name": "stdout",
     "output_type": "stream",
     "text": [
      "person is speaking\n",
      "player is speaking\n",
      "person is speaking\n"
     ]
    }
   ],
   "source": [
    "# нэгэн ижил нөхцөлд адил нэртэй method-уудыг дуудах - 1\n",
    "def person_speak(obj):\n",
    "    obj.speak()\n",
    "    \n",
    "person_speak(person)\n",
    "person_speak(player)\n",
    "person_speak(singer)"
   ]
  }
 ],
 "metadata": {
  "kernelspec": {
   "display_name": "Python 3",
   "language": "python",
   "name": "python3"
  },
  "language_info": {
   "codemirror_mode": {
    "name": "ipython",
    "version": 3
   },
   "file_extension": ".py",
   "mimetype": "text/x-python",
   "name": "python",
   "nbconvert_exporter": "python",
   "pygments_lexer": "ipython3",
   "version": "3.7.4"
  }
 },
 "nbformat": 4,
 "nbformat_minor": 2
}
