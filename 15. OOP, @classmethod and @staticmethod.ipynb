{
 "cells": [
  {
   "cell_type": "markdown",
   "metadata": {},
   "source": [
    "# OOP, @classmethod and @staticmethod"
   ]
  },
  {
   "cell_type": "markdown",
   "metadata": {},
   "source": [
    "`@classmethod`-ыг class дотроос тухайн class-ын object үүсгэхэд, class object attribute-ыг өөрчлөх зэрэгт ашиглана. Харьцангуй хэрэглээ бага.\n",
    "`@staticmethod`-ыг class дотор энгийн function-ыг тодорхойлоход ашиглана. Өөрөөр хэлбэл class-ын болон object-ын attribute-тай хамааралгүй function бичихэд ашиглана. Мөн хэрэглээ тун бага."
   ]
  },
  {
   "cell_type": "code",
   "execution_count": 8,
   "metadata": {},
   "outputs": [
    {
     "name": "stdout",
     "output_type": "stream",
     "text": [
      "10\n",
      "20\n",
      "False\n",
      "False\n",
      "False\n",
      "Hello Circle\n",
      "Hello Circle\n",
      "Hello Circle\n"
     ]
    }
   ],
   "source": [
    "class Circle:\n",
    "    geometry = True\n",
    "    \n",
    "    def __init__(self, radius=10):\n",
    "        self.radius = radius\n",
    "    \n",
    "    # cls parameter нь self-тэй төстэй. Хэрэглэгч дамжуулж өгөхгүй. Python interpreter цаанаас дамжуулж өгнө. Тухайн class-ыг өөрийг нь илтгэнэ.\n",
    "    @classmethod\n",
    "    def create_circle(cls, radius):\n",
    "        # class-ыг өөрийг нь ашиглан class дотроос шинэ object үүсгэж байна. Мөн class attribute-ыг өөрчилж байна.\n",
    "        cls.geometry = False\n",
    "        return cls(radius)\n",
    "    \n",
    "    # тухайн class болон class-ын object-ын attribute-тай хамааралгүй энгийн function-ыг class дотор тодорхойлох.\n",
    "    @staticmethod\n",
    "    def hello_circle():\n",
    "        print('Hello Circle')\n",
    "\n",
    "circle1 = Circle(10)\n",
    "circle2 = Circle.create_circle(20)\n",
    "\n",
    "print(circle1.radius)\n",
    "print(circle2.radius)\n",
    "\n",
    "print(circle1.geometry)\n",
    "print(circle2.geometry)\n",
    "\n",
    "print(Circle.geometry)\n",
    "\n",
    "Circle.hello_circle()\n",
    "circle1.hello_circle()\n",
    "circle2.hello_circle()"
   ]
  }
 ],
 "metadata": {
  "kernelspec": {
   "display_name": "Python 3",
   "language": "python",
   "name": "python3"
  },
  "language_info": {
   "codemirror_mode": {
    "name": "ipython",
    "version": 3
   },
   "file_extension": ".py",
   "mimetype": "text/x-python",
   "name": "python",
   "nbconvert_exporter": "python",
   "pygments_lexer": "ipython3",
   "version": "3.7.4"
  }
 },
 "nbformat": 4,
 "nbformat_minor": 2
}
